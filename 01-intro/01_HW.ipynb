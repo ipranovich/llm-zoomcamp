{
 "cells": [
  {
   "cell_type": "markdown",
   "id": "a9c57311-20da-4a0b-bb46-31c006393d9b",
   "metadata": {},
   "source": [
    "# Homework: Introduction"
   ]
  },
  {
   "cell_type": "markdown",
   "id": "a18b2028-6250-4dbb-858b-7fd1b2ad3c6b",
   "metadata": {},
   "source": [
    "## Q1. Running Elastic\n",
    "\n",
    "What's the version.build_hash value?\n",
    "\n",
    "`42f05b9372a9a4a470db3b52817899b99a76ee73`"
   ]
  },
  {
   "cell_type": "code",
   "execution_count": 6,
   "id": "db916a8c-f91a-4d32-b6ba-4d7423ea2b62",
   "metadata": {},
   "outputs": [
    {
     "name": "stdout",
     "output_type": "stream",
     "text": [
      "{\n",
      "  \"name\" : \"cc176d2867a3\",\n",
      "  \"cluster_name\" : \"docker-cluster\",\n",
      "  \"cluster_uuid\" : \"W81LUyvVRa-F-rWZ77l_jw\",\n",
      "  \"version\" : {\n",
      "    \"number\" : \"8.4.3\",\n",
      "    \"build_flavor\" : \"default\",\n",
      "    \"build_type\" : \"docker\",\n",
      "    \"build_hash\" : \"42f05b9372a9a4a470db3b52817899b99a76ee73\",\n",
      "    \"build_date\" : \"2022-10-04T07:17:24.662462378Z\",\n",
      "    \"build_snapshot\" : false,\n",
      "    \"lucene_version\" : \"9.3.0\",\n",
      "    \"minimum_wire_compatibility_version\" : \"7.17.0\",\n",
      "    \"minimum_index_compatibility_version\" : \"7.0.0\"\n",
      "  },\n",
      "  \"tagline\" : \"You Know, for Search\"\n",
      "}\n"
     ]
    }
   ],
   "source": [
    "!curl localhost:9200"
   ]
  },
  {
   "cell_type": "code",
   "execution_count": 7,
   "id": "455e5a62-cedf-4957-9943-57726586f311",
   "metadata": {},
   "outputs": [],
   "source": [
    "import requests \n",
    "\n",
    "docs_url = 'https://github.com/DataTalksClub/llm-zoomcamp/blob/main/01-intro/documents.json?raw=1'\n",
    "docs_response = requests.get(docs_url)\n",
    "documents_raw = docs_response.json()\n",
    "\n",
    "documents = []\n",
    "\n",
    "for course in documents_raw:\n",
    "    course_name = course['course']\n",
    "\n",
    "    for doc in course['documents']:\n",
    "        doc['course'] = course_name\n",
    "        documents.append(doc)"
   ]
  },
  {
   "cell_type": "markdown",
   "id": "6e5a295a-d289-4e07-a243-2a6bb03d8aa2",
   "metadata": {},
   "source": [
    "## Q2. Indexing the data\n",
    "\n",
    "Which function do you use for adding your data to elastic?\n",
    "\n",
    "`insert`"
   ]
  },
  {
   "cell_type": "markdown",
   "id": "2f9ea9b4-0a6a-448f-9520-9a8509248a6d",
   "metadata": {},
   "source": [
    "## Q3. Searching\n",
    "What's the score for the top ranking result?\n",
    "`84.05`"
   ]
  },
  {
   "cell_type": "code",
   "execution_count": 8,
   "id": "64f20a2b-ffa8-452c-b363-72e9423c59c8",
   "metadata": {},
   "outputs": [],
   "source": [
    "from elasticsearch import Elasticsearch\n",
    "index_name = \"course-questions\"\n",
    "es_client = Elasticsearch('http://localhost:9200') "
   ]
  },
  {
   "cell_type": "code",
   "execution_count": 9,
   "id": "86ad2dc5-4360-4d04-8119-625ea1352b71",
   "metadata": {},
   "outputs": [],
   "source": [
    "query = \"How do I execute a command in a running docker container?\""
   ]
  },
  {
   "cell_type": "code",
   "execution_count": 10,
   "id": "85ca58b8-8ed0-47ac-b2e2-5a3db37533d6",
   "metadata": {},
   "outputs": [],
   "source": [
    "def elastic_search(query):\n",
    "    search_query = {\n",
    "        \"size\": 5,\n",
    "        \"query\": {\n",
    "            \"bool\": {\n",
    "                \"must\": {\n",
    "                    \"multi_match\": {\n",
    "                        \"query\": query,\n",
    "                        \"fields\": [\"question^4\", \"text\"],\n",
    "                        \"type\": \"best_fields\"\n",
    "                    }\n",
    "                }\n",
    "            }\n",
    "        }\n",
    "    }\n",
    "\n",
    "    response = es_client.search(index=index_name, body=search_query)\n",
    "    \n",
    "    result_docs = []\n",
    "    \n",
    "    for hit in response['hits']['hits']:\n",
    "        result_docs.append(hit['_score'])\n",
    "    \n",
    "    return result_docs"
   ]
  },
  {
   "cell_type": "code",
   "execution_count": 11,
   "id": "f8a5023f-e421-49d0-9325-c3357deb0d3c",
   "metadata": {},
   "outputs": [
    {
     "data": {
      "text/plain": [
       "84.050095"
      ]
     },
     "execution_count": 11,
     "metadata": {},
     "output_type": "execute_result"
    }
   ],
   "source": [
    "max(elastic_search(query))"
   ]
  },
  {
   "cell_type": "markdown",
   "id": "a701058b-0e55-457d-b15b-b347ae243cf6",
   "metadata": {},
   "source": [
    "## Q4. Filtering\n",
    "\n",
    "Return 3 results. What's the 3rd question returned by the search engine?\n",
    "\n",
    "`'How do I copy files from a different folder into docker container’s working directory?'`"
   ]
  },
  {
   "cell_type": "code",
   "execution_count": 12,
   "id": "1573b197-fb16-4d2c-9b8e-35b66ceec985",
   "metadata": {},
   "outputs": [],
   "source": [
    "def elastic_search_filtered(query):\n",
    "    search_query = {\n",
    "        \"size\": 3,\n",
    "        \"query\": {\n",
    "            \"bool\": {\n",
    "                \"must\": {\n",
    "                    \"multi_match\": {\n",
    "                        \"query\": query,\n",
    "                        \"fields\": [\"question^4\", \"text\"],\n",
    "                        \"type\": \"best_fields\"\n",
    "                    }\n",
    "                },\n",
    "                \"filter\": {\n",
    "                    \"term\": {\n",
    "                        \"course\": \"machine-learning-zoomcamp\"\n",
    "                    }\n",
    "                }\n",
    "            }\n",
    "        }\n",
    "    }\n",
    "\n",
    "    response = es_client.search(index=index_name, body=search_query)\n",
    "    \n",
    "    result_docs = []\n",
    "    \n",
    "    for hit in response['hits']['hits']:\n",
    "        result_docs.append(hit['_source'])\n",
    "    \n",
    "    return result_docs"
   ]
  },
  {
   "cell_type": "code",
   "execution_count": 13,
   "id": "56b9692a-c7be-4779-bc9d-a699262696b0",
   "metadata": {},
   "outputs": [
    {
     "data": {
      "text/plain": [
       "'How do I copy files from a different folder into docker container’s working directory?'"
      ]
     },
     "execution_count": 13,
     "metadata": {},
     "output_type": "execute_result"
    }
   ],
   "source": [
    "elastic_search_filtered(query)[2]['question']"
   ]
  },
  {
   "cell_type": "markdown",
   "id": "8194806d-ec5d-4a6d-ba09-c7d1c0492d1d",
   "metadata": {},
   "source": [
    "## Q5. Building a prompt\n",
    "\n",
    "What's the length of the resulting prompt? (use the len function)\n",
    "\n",
    "962\n",
    "`1462`\n",
    "1962\n",
    "2462\n"
   ]
  },
  {
   "cell_type": "code",
   "execution_count": 14,
   "id": "9f906aae-8436-4eb1-9305-1aa4aab3f0b0",
   "metadata": {},
   "outputs": [],
   "source": [
    "context_template = \"\"\"\n",
    "Q: {question}\n",
    "A: {text}\n",
    "\"\"\".strip()"
   ]
  },
  {
   "cell_type": "code",
   "execution_count": 15,
   "id": "23410a5c-97f4-494c-ab90-db2d4e27f863",
   "metadata": {},
   "outputs": [],
   "source": [
    "def build_prompt(query, search_results):\n",
    "    prompt_template = \"\"\"\n",
    "You're a course teaching assistant. Answer the QUESTION based on the CONTEXT from the FAQ database.\n",
    "Use only the facts from the CONTEXT when answering the QUESTION.\n",
    "\n",
    "QUESTION: {question}\n",
    "\n",
    "CONTEXT:\n",
    "{context}\n",
    "\"\"\".strip()\n",
    "\n",
    "    context = \"\"\n",
    "\n",
    "    for doc in search_results:\n",
    "        context = context + f\"Q: {doc['question']}\\A: {doc['text']}\\n\\n\"\n",
    "    \n",
    "    prompt = prompt_template.format(question=query, context=context).strip()\n",
    "    return prompt"
   ]
  },
  {
   "cell_type": "code",
   "execution_count": 16,
   "id": "3742a6f0-4421-4caf-b00a-369ce9059f58",
   "metadata": {},
   "outputs": [],
   "source": [
    "search_results = elastic_search_filtered(query)\n",
    "prompt = build_prompt(query, search_results)"
   ]
  },
  {
   "cell_type": "code",
   "execution_count": 17,
   "id": "8fa33c50-d9a3-45c2-9e62-6a579e5a03ef",
   "metadata": {},
   "outputs": [
    {
     "data": {
      "text/plain": [
       "1462"
      ]
     },
     "execution_count": 17,
     "metadata": {},
     "output_type": "execute_result"
    }
   ],
   "source": [
    "len(prompt)"
   ]
  },
  {
   "cell_type": "markdown",
   "id": "360dab38-7a24-4bbb-881a-54db78f69de0",
   "metadata": {},
   "source": [
    "## Q6. Tokens\n",
    "\n",
    "Use the encode function. How many tokens does our prompt have?\n",
    "\n",
    "122\n",
    "222\n",
    "322\n",
    "422"
   ]
  },
  {
   "cell_type": "code",
   "execution_count": 2,
   "id": "c3d33c75-b570-4d4e-8a26-c570ba85028e",
   "metadata": {},
   "outputs": [
    {
     "name": "stdout",
     "output_type": "stream",
     "text": [
      "Collecting tiktoken==0.7.0\n",
      "  Downloading tiktoken-0.7.0-cp310-cp310-manylinux_2_17_x86_64.manylinux2014_x86_64.whl.metadata (6.6 kB)\n",
      "Collecting regex>=2022.1.18 (from tiktoken==0.7.0)\n",
      "  Downloading regex-2024.5.15-cp310-cp310-manylinux_2_17_x86_64.manylinux2014_x86_64.whl.metadata (40 kB)\n",
      "\u001b[2K     \u001b[38;2;114;156;31m━━━━━━━━━━━━━━━━━━━━━━━━━━━━━━━━━━━━━━━\u001b[0m \u001b[32m40.9/40.9 kB\u001b[0m \u001b[31m998.1 kB/s\u001b[0m eta \u001b[36m0:00:00\u001b[0m\n",
      "\u001b[?25hRequirement already satisfied: requests>=2.26.0 in /home/codespace/.local/lib/python3.10/site-packages (from tiktoken==0.7.0) (2.32.3)\n",
      "Requirement already satisfied: charset-normalizer<4,>=2 in /home/codespace/.local/lib/python3.10/site-packages (from requests>=2.26.0->tiktoken==0.7.0) (3.3.2)\n",
      "Requirement already satisfied: idna<4,>=2.5 in /home/codespace/.local/lib/python3.10/site-packages (from requests>=2.26.0->tiktoken==0.7.0) (3.7)\n",
      "Requirement already satisfied: urllib3<3,>=1.21.1 in /usr/local/python/3.10.13/lib/python3.10/site-packages (from requests>=2.26.0->tiktoken==0.7.0) (2.0.7)\n",
      "Requirement already satisfied: certifi>=2017.4.17 in /home/codespace/.local/lib/python3.10/site-packages (from requests>=2.26.0->tiktoken==0.7.0) (2024.7.4)\n",
      "Downloading tiktoken-0.7.0-cp310-cp310-manylinux_2_17_x86_64.manylinux2014_x86_64.whl (1.1 MB)\n",
      "\u001b[2K   \u001b[38;2;114;156;31m━━━━━━━━━━━━━━━━━━━━━━━━━━━━━━━━━━━━━━━━\u001b[0m \u001b[32m1.1/1.1 MB\u001b[0m \u001b[31m23.2 MB/s\u001b[0m eta \u001b[36m0:00:00\u001b[0m0m eta \u001b[36m0:00:01\u001b[0m\n",
      "\u001b[?25hDownloading regex-2024.5.15-cp310-cp310-manylinux_2_17_x86_64.manylinux2014_x86_64.whl (775 kB)\n",
      "\u001b[2K   \u001b[38;2;114;156;31m━━━━━━━━━━━━━━━━━━━━━━━━━━━━━━━━━━━━━━━━\u001b[0m \u001b[32m775.1/775.1 kB\u001b[0m \u001b[31m19.5 MB/s\u001b[0m eta \u001b[36m0:00:00\u001b[0mm eta \u001b[36m0:00:01\u001b[0m\n",
      "\u001b[?25hInstalling collected packages: regex, tiktoken\n",
      "Successfully installed regex-2024.5.15 tiktoken-0.7.0\n",
      "Note: you may need to restart the kernel to use updated packages.\n"
     ]
    }
   ],
   "source": [
    "%pip install tiktoken==0.7.0"
   ]
  },
  {
   "cell_type": "code",
   "execution_count": 45,
   "id": "22d37cc9-bcd5-455f-989e-9ad8497d2317",
   "metadata": {},
   "outputs": [
    {
     "name": "stdout",
     "output_type": "stream",
     "text": [
      "Package                  Version\n",
      "------------------------ ----------\n",
      "annotated-types          0.7.0\n",
      "anyio                    4.4.0\n",
      "archspec                 0.2.3\n",
      "boltons                  23.0.0\n",
      "Brotli                   1.0.9\n",
      "certifi                  2024.7.4\n",
      "cffi                     1.16.0\n",
      "charset-normalizer       2.0.4\n",
      "conda                    24.5.0\n",
      "conda-libmamba-solver    24.1.0\n",
      "conda-package-handling   2.2.0\n",
      "conda_package_streaming  0.9.0\n",
      "cryptography             42.0.5\n",
      "distro                   1.9.0\n",
      "filelock                 3.15.4\n",
      "frozendict               2.4.2\n",
      "fsspec                   2024.6.1\n",
      "h11                      0.14.0\n",
      "httpcore                 1.0.5\n",
      "httpx                    0.27.0\n",
      "idna                     3.7\n",
      "Jinja2                   3.1.4\n",
      "jsonpatch                1.33\n",
      "jsonpointer              2.1\n",
      "libmambapy               1.5.8\n",
      "llvmlite                 0.43.0\n",
      "MarkupSafe               2.1.5\n",
      "menuinst                 2.0.2\n",
      "more-itertools           10.3.0\n",
      "mpmath                   1.3.0\n",
      "networkx                 3.3\n",
      "numba                    0.60.0\n",
      "numpy                    2.0.0\n",
      "nvidia-cublas-cu12       12.1.3.1\n",
      "nvidia-cuda-cupti-cu12   12.1.105\n",
      "nvidia-cuda-nvrtc-cu12   12.1.105\n",
      "nvidia-cuda-runtime-cu12 12.1.105\n",
      "nvidia-cudnn-cu12        8.9.2.26\n",
      "nvidia-cufft-cu12        11.0.2.54\n",
      "nvidia-curand-cu12       10.3.2.106\n",
      "nvidia-cusolver-cu12     11.4.5.107\n",
      "nvidia-cusparse-cu12     12.1.0.106\n",
      "nvidia-nccl-cu12         2.20.5\n",
      "nvidia-nvjitlink-cu12    12.5.82\n",
      "nvidia-nvtx-cu12         12.1.105\n",
      "openai                   1.35.13\n",
      "openai-whisper           20231117\n",
      "packaging                23.2\n",
      "pip                      24.1.2\n",
      "platformdirs             3.10.0\n",
      "pluggy                   1.0.0\n",
      "pycosat                  0.6.6\n",
      "pycparser                2.21\n",
      "pydantic                 2.8.2\n",
      "pydantic_core            2.20.1\n",
      "pyOpenSSL                24.0.0\n",
      "PySocks                  1.7.1\n",
      "regex                    2024.5.15\n",
      "requests                 2.31.0\n",
      "ruamel.yaml              0.17.21\n",
      "setuptools               70.3.0\n",
      "sniffio                  1.3.1\n",
      "sympy                    1.13.0\n",
      "tiktoken                 0.6.0\n",
      "torch                    2.3.1\n",
      "tqdm                     4.66.2\n",
      "triton                   2.3.1\n",
      "truststore               0.8.0\n",
      "typing_extensions        4.12.2\n",
      "urllib3                  1.26.18\n",
      "wheel                    0.43.0\n",
      "zstandard                0.22.0\n"
     ]
    }
   ],
   "source": [
    "! pip list"
   ]
  },
  {
   "cell_type": "code",
   "execution_count": 18,
   "id": "c33d8807-5de7-4e78-907e-3cdf133c3749",
   "metadata": {},
   "outputs": [],
   "source": [
    "import tiktoken"
   ]
  },
  {
   "cell_type": "code",
   "execution_count": 19,
   "id": "a1c8906d-9603-49d5-914c-f3208b215124",
   "metadata": {},
   "outputs": [],
   "source": [
    "encoding = tiktoken.encoding_for_model(\"gpt-4o\")"
   ]
  },
  {
   "cell_type": "code",
   "execution_count": 22,
   "id": "8b08d241-8d46-4c7c-a773-edd9f124e083",
   "metadata": {},
   "outputs": [
    {
     "data": {
      "text/plain": [
       "322"
      ]
     },
     "execution_count": 22,
     "metadata": {},
     "output_type": "execute_result"
    }
   ],
   "source": [
    "len(encoding.encode(prompt))"
   ]
  }
 ],
 "metadata": {
  "kernelspec": {
   "display_name": "Python 3 (ipykernel)",
   "language": "python",
   "name": "python3"
  },
  "language_info": {
   "codemirror_mode": {
    "name": "ipython",
    "version": 3
   },
   "file_extension": ".py",
   "mimetype": "text/x-python",
   "name": "python",
   "nbconvert_exporter": "python",
   "pygments_lexer": "ipython3",
   "version": "3.10.13"
  }
 },
 "nbformat": 4,
 "nbformat_minor": 5
}
